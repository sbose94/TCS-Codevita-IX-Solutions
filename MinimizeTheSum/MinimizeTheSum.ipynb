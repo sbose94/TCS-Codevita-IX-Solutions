{
 "cells": [
  {
   "cell_type": "code",
   "execution_count": 2,
   "metadata": {},
   "outputs": [
    {
     "name": "stdout",
     "output_type": "stream",
     "text": [
      "4 3 \n",
      "20 7 5 4 \n",
      "17\n"
     ]
    }
   ],
   "source": [
    "import math\n",
    "n,k=map(int, input().split())\n",
    "arr=list(map(int,input().split()))\n",
    "for i in range(k):\n",
    "    l=max(arr)\n",
    "    x=math.floor(l/2)\n",
    "    pos=arr.index(l)\n",
    "    arr[pos]=x\n",
    "print(sum(arr))"
   ]
  },
  {
   "cell_type": "code",
   "execution_count": null,
   "metadata": {},
   "outputs": [],
   "source": []
  }
 ],
 "metadata": {
  "kernelspec": {
   "display_name": "Python 3",
   "language": "python",
   "name": "python3"
  },
  "language_info": {
   "codemirror_mode": {
    "name": "ipython",
    "version": 3
   },
   "file_extension": ".py",
   "mimetype": "text/x-python",
   "name": "python",
   "nbconvert_exporter": "python",
   "pygments_lexer": "ipython3",
   "version": "3.6.5"
  }
 },
 "nbformat": 4,
 "nbformat_minor": 2
}
