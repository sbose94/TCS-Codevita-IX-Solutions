{
 "cells": [
  {
   "cell_type": "code",
   "execution_count": 9,
   "metadata": {},
   "outputs": [
    {
     "name": "stdout",
     "output_type": "stream",
     "text": [
      "6 3\n",
      "5 5 7 9 15 2\n",
      "5\n"
     ]
    }
   ],
   "source": [
    "n=list(map(int,input().split())) #integer k is taken as the 2nd number in the list i.e.n[1]=k\n",
    "#n,k=map(int, input().split())\n",
    "arr=list(map(int,input().split())) \n",
    "\n",
    "count=0\n",
    "\n",
    "for i in range (len(arr)): \n",
    "    min=arr[i]-n[1] #upper limit of range\n",
    "    max=arr[i]+n[1] #lower limit of range\n",
    "    happy = 0\n",
    "    for x in range (len(arr)): \n",
    "        if not (i==x): \n",
    "            if(min <= arr[x]<= max):\n",
    "                happy = 1 \n",
    "    count = count + 1 if(happy == 1) else count + 0\n",
    "print(count) "
   ]
  },
  {
   "cell_type": "code",
   "execution_count": null,
   "metadata": {},
   "outputs": [],
   "source": []
  }
 ],
 "metadata": {
  "kernelspec": {
   "display_name": "Python 3",
   "language": "python",
   "name": "python3"
  },
  "language_info": {
   "codemirror_mode": {
    "name": "ipython",
    "version": 3
   },
   "file_extension": ".py",
   "mimetype": "text/x-python",
   "name": "python",
   "nbconvert_exporter": "python",
   "pygments_lexer": "ipython3",
   "version": "3.6.5"
  }
 },
 "nbformat": 4,
 "nbformat_minor": 2
}
